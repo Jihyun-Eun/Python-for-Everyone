{
  "cells": [
    {
      "cell_type": "markdown",
      "metadata": {
        "id": "view-in-github",
        "colab_type": "text"
      },
      "source": [
        "<a href=\"https://colab.research.google.com/github/Jihyun-Eun/Python-for-Everyone/blob/main/map_visualization.ipynb\" target=\"_parent\"><img src=\"https://colab.research.google.com/assets/colab-badge.svg\" alt=\"Open In Colab\"/></a>"
      ]
    },
    {
      "cell_type": "markdown",
      "metadata": {
        "id": "_1OeeQD7igRu"
      },
      "source": [
        "##지도에 시각화 표시하기\n",
        "### 1.지도에 위치를 표시하기 위해 필요한 정보\n",
        "- **위도(Latitude)**: 가로선, 적도를 기준으로 북쪽/남쪽으로 얼마나 떨어져 있는지 나타내는 위치, 위도 1도는 대략 111km,\n",
        "- **경도(longitude)**: 세로선, 그리니치 천문대를 기준으로 동/서를 세로로 표시하는 선, 오른쪽 동경(East~180)/왼쪽 서경(West~180)"
      ]
    },
    {
      "cell_type": "code",
      "execution_count": 1,
      "metadata": {
        "colab": {
          "base_uri": "https://localhost:8080/",
          "height": 320
        },
        "id": "uc4iySlbiks3",
        "outputId": "71a4365f-a4bf-43dc-9a67-b2652c0bc432"
      },
      "outputs": [
        {
          "output_type": "execute_result",
          "data": {
            "text/html": [
              "<img src=\"http://4.bp.blogspot.com/-7nTuhDQ2gSE/VYgQiE8sJzI/AAAAAAAAALw/JFVQKIhZyF4/s1600/This_is_a_basic_photo_showing_that_latitude_lines_are_horizontal_and_longitude_lines_are_vertical-_2014-07-25_20-36.jpg\" width=\"400\" height=\"300\"/>"
            ],
            "text/plain": [
              "<IPython.core.display.Image object>"
            ]
          },
          "metadata": {},
          "execution_count": 1
        }
      ],
      "source": [
        "# 인터넷에 있는 이미지 보여주기\n",
        "from IPython.display import Image\n",
        "Image(url='http://4.bp.blogspot.com/-7nTuhDQ2gSE/VYgQiE8sJzI/AAAAAAAAALw/JFVQKIhZyF4/s1600/This_is_a_basic_photo_showing_that_latitude_lines_are_horizontal_and_longitude_lines_are_vertical-_2014-07-25_20-36.jpg'\n",
        "     , width=400, height=300)"
      ]
    },
    {
      "cell_type": "markdown",
      "metadata": {
        "id": "D0j6mvPXiri3"
      },
      "source": [
        "- **우리나라의 위도 경도 값**\n",
        "> 위도(33 ~ 43), 경도(124 ~ 132)"
      ]
    },
    {
      "cell_type": "code",
      "execution_count": 2,
      "metadata": {
        "id": "SG7RerCOizWP",
        "colab": {
          "base_uri": "https://localhost:8080/",
          "height": 320
        },
        "outputId": "988a4612-c4e2-4807-cb20-90ae373c3303"
      },
      "outputs": [
        {
          "output_type": "execute_result",
          "data": {
            "text/html": [
              "<img src=\"https://mblogthumb-phinf.pstatic.net/MjAxOTA3MTJfMTgg/MDAxNTYyOTAxMzQ0MzE0.KPkhwGuXiIxf5gKHa28kdazfvAFi8x_8pYqQf5wCgIIg.bFcsxsI-MmUaKUW_zBJWhCE6Z7mbbaI4z7a7NW6G2wog.PNG.lkokvse78/image.png?type=w800\" width=\"400\" height=\"300\"/>"
            ],
            "text/plain": [
              "<IPython.core.display.Image object>"
            ]
          },
          "metadata": {},
          "execution_count": 2
        }
      ],
      "source": [
        "Image(url='https://mblogthumb-phinf.pstatic.net/MjAxOTA3MTJfMTgg/MDAxNTYyOTAxMzQ0MzE0.KPkhwGuXiIxf5gKHa28kdazfvAFi8x_8pYqQf5wCgIIg.bFcsxsI-MmUaKUW_zBJWhCE6Z7mbbaI4z7a7NW6G2wog.PNG.lkokvse78/image.png?type=w800'\n",
        "          , width=400, height=300)"
      ]
    },
    {
      "cell_type": "markdown",
      "metadata": {
        "id": "EHpjZcgTixm6"
      },
      "source": [
        "### 2. 라이브러리 설치\n",
        "- 공식 사이트: https://python-visualization.github.io/folium/\n",
        "- 참고 사이트: https://teddylee777.github.io/visualization/folium\n",
        "- 참고 사이트: https://dailyheumsi.tistory.com/m/144?category=854906"
      ]
    },
    {
      "cell_type": "markdown",
      "metadata": {
        "id": "qCaDakbuj9d7"
      },
      "source": [
        "* follium 라이브러리\n",
        "    leaflet.js 기반으로 지도를 그려주고, 모바일에서도 쓸 수 있을만큼 가벼움\n",
        "    pandas 와 쉽게 연동되어 간편하게 시각화\n",
        "    무료, 사용법 간단, 다양한 plugin 제공\n",
        "* google maps : api 기반, 유료"
      ]
    },
    {
      "cell_type": "code",
      "execution_count": 3,
      "metadata": {
        "id": "eGIWmz6si92q",
        "colab": {
          "base_uri": "https://localhost:8080/"
        },
        "outputId": "51a3c385-3bbc-490a-887b-e23478d22f24"
      },
      "outputs": [
        {
          "output_type": "stream",
          "name": "stdout",
          "text": [
            "Requirement already satisfied: folium in /usr/local/lib/python3.10/dist-packages (0.14.0)\n",
            "Requirement already satisfied: branca>=0.6.0 in /usr/local/lib/python3.10/dist-packages (from folium) (0.6.0)\n",
            "Requirement already satisfied: jinja2>=2.9 in /usr/local/lib/python3.10/dist-packages (from folium) (3.1.2)\n",
            "Requirement already satisfied: numpy in /usr/local/lib/python3.10/dist-packages (from folium) (1.23.5)\n",
            "Requirement already satisfied: requests in /usr/local/lib/python3.10/dist-packages (from folium) (2.31.0)\n",
            "Requirement already satisfied: MarkupSafe>=2.0 in /usr/local/lib/python3.10/dist-packages (from jinja2>=2.9->folium) (2.1.3)\n",
            "Requirement already satisfied: charset-normalizer<4,>=2 in /usr/local/lib/python3.10/dist-packages (from requests->folium) (3.2.0)\n",
            "Requirement already satisfied: idna<4,>=2.5 in /usr/local/lib/python3.10/dist-packages (from requests->folium) (3.4)\n",
            "Requirement already satisfied: urllib3<3,>=1.21.1 in /usr/local/lib/python3.10/dist-packages (from requests->folium) (2.0.4)\n",
            "Requirement already satisfied: certifi>=2017.4.17 in /usr/local/lib/python3.10/dist-packages (from requests->folium) (2023.7.22)\n"
          ]
        }
      ],
      "source": [
        "!pip install folium"
      ]
    },
    {
      "cell_type": "code",
      "execution_count": 4,
      "metadata": {
        "id": "uHxA0Feri_3n",
        "colab": {
          "base_uri": "https://localhost:8080/",
          "height": 35
        },
        "outputId": "88c6869e-2eee-45d4-af11-626ec13ddbaf"
      },
      "outputs": [
        {
          "output_type": "execute_result",
          "data": {
            "text/plain": [
              "'0.14.0'"
            ],
            "application/vnd.google.colaboratory.intrinsic+json": {
              "type": "string"
            }
          },
          "metadata": {},
          "execution_count": 4
        }
      ],
      "source": [
        "import folium\n",
        "\n",
        "folium.__version__"
      ]
    },
    {
      "cell_type": "markdown",
      "source": [
        "* 지도생성하기\n",
        "    위도 경도 정보는 리스트 또는 튜플 형태\n",
        "\n",
        "~~~   \n",
        "    m = folium.Map(location = [위도, 경도],\n",
        "                 tiles = 지도의 테마,\n",
        "                 zoom_start = 처음 그릴 때 확대정도(숫자, 숫자가 클수록 디테),\n",
        "                 control_scale = 스케일 컨트롤 표시 여부(True/False),\n",
        "                 zoom_control = zoom in/out 버튼 표시 여부(True/False)\n",
        "                 )\n",
        "~~~\n",
        "\n",
        "* 정보 추가하기(POI : Point Of Interest, 관심지점)\n",
        "\n",
        "    마커 추가하기\n",
        "~~~\n",
        "folium.Marker([위도, 경도]).add_to(m)\n",
        "~~~\n",
        "* 원 추가하기(픽셀 단위, map의 해상도에 따라 원의 크기 변경) default : 10\n",
        "~~~\n",
        "folium.CircleMarker([위도, 경도], radius= 원크기).add_to(m)\n",
        "~~~"
      ],
      "metadata": {
        "id": "Q4kWWOrLDGra"
      }
    },
    {
      "cell_type": "markdown",
      "metadata": {
        "id": "qUDURDMyjH-Z"
      },
      "source": [
        "#### 지도 세부 조정하기\n",
        "\n",
        "- 구글 지도 또는 네이버 지도 등에서 우리집 위도&경도 값 확인하기\n",
        "- **지도 테마(종류**:  (기본테마)OpenStreetMap, Stamen Terrain, Stamen Toner, cartodbpositron\n",
        " > tile 옵션 사용하여 적용: ex(tiles='Stamen Toner') <br>\n",
        " >‘Mapbox Bright’, 와 ‘Mapbox Control room tiles’ 은 등록키가 있어야함.\n",
        "\n",
        "- **location**: 마커를 추가할 위도/경도 좌표를 입력 후\n",
        "\n",
        "- **popup**: 표기할 팝업 문구 지정 (마우스 클릭시 표기되는 문구), HTML 태그 지\n",
        "\n",
        "- **tooltip**: 표기할 툴팁 지정 (마우스 오버시 표기되는 문구)\n",
        "\n",
        "#### # 마커 종류\n",
        "- icon : star/cloud/info-sign/\n",
        "- color : red/blue/green/등"
      ]
    },
    {
      "cell_type": "markdown",
      "metadata": {
        "id": "-rmtQ37gjBuk"
      },
      "source": [
        "### 3. 지도에 마커로 위치 표시하기\n",
        "- **구글맵**에서 **숭례문**의 위도/경도 좌표 복사하기\n",
        "- https://www.google.com/maps\n",
        "- !3d37.5599518!4d126.9753037 --> 위도:37.560062343664626, 경도:126.97531442620539"
      ]
    },
    {
      "cell_type": "markdown",
      "metadata": {
        "id": "G1Lq4LmXpk9q"
      },
      "source": [
        "#### 4. html 파일로 저장하기"
      ]
    },
    {
      "cell_type": "markdown",
      "source": [
        "#[실습]MarkerCluster , 서울의 구청 위치 표시하기"
      ],
      "metadata": {
        "id": "fE3Vv1RchARI"
      }
    },
    {
      "cell_type": "markdown",
      "source": [
        "#[실습]서울 따릉이 대여소 정보\n",
        "\n",
        "서울열린데이터 광장 > 검색어 따릉이"
      ],
      "metadata": {
        "id": "Tp4twqWshh7-"
      }
    },
    {
      "cell_type": "markdown",
      "metadata": {
        "id": "ez4LGa4ir8nB"
      },
      "source": [
        "#[실습]서울동별 외국인 현황"
      ]
    },
    {
      "cell_type": "markdown",
      "metadata": {
        "id": "VRh7Dufl2-Zv"
      },
      "source": [
        "* 지도에 레이어 만들기\n",
        "~~~\n",
        "folium.Choropleth(\n",
        "    geo_data = \"지도 데이터 파일 경로 (.geojson, geopandas.DataFrame)\"\n",
        "    data = \"시각화 하고자 하는 데이터파일. (pandas.DataFrame)\"\n",
        "    columns = (지도 데이터와 매핑할 값, 시각화 하고자하는 변수),\n",
        "    key_on = \"feature.데이터 파일과 매핑할 값\",\n",
        "    fill_color = \"시각화에 쓰일 색상\",\n",
        "    legend_name = \"칼라 범주 이름\",\n",
        ").add_to(m)\n",
        "~~~\n",
        "\n",
        "* columns 에는 tuple 형태의 2개의 값만 입력\n",
        "    하나는 geo_data 의 데이터 변수(열) 중, data 의 데이터와 매핑할 변수\n",
        "    즉 아래 key_on 값과 매핑할 변수\n",
        "    위 예의 경우, 동 으로 매핑하고 있습니다.\n",
        "    2개 값의 순서는 상관없습니다.\n",
        "* key_on 에는 하나의 String 값만 입력\n",
        "    위에 .geojson 파일(geo_data)을 보면, features 라는 리스트에 있는 데이터\n",
        "    각 데이터의 속성(변수)는 properties 라는 dict 형태 안에 저장\n",
        "    따라서, 위 예에서 feature.properties.동 으로 접근하여 매칭\n",
        "*  fill_color 는 종류가 정해져있음\n",
        "*  geo_data 는 url 이 올 수도 있고, geopandas 로 읽은 데이터프레임도 가능"
      ]
    }
  ],
  "metadata": {
    "colab": {
      "provenance": [],
      "toc_visible": true,
      "include_colab_link": true
    },
    "kernelspec": {
      "display_name": "Python 3",
      "name": "python3"
    },
    "language_info": {
      "name": "python"
    }
  },
  "nbformat": 4,
  "nbformat_minor": 0
}